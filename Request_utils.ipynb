{
 "cells": [
  {
   "cell_type": "markdown",
   "id": "49e23ef2",
   "metadata": {},
   "source": [
    "![title](images/temp.jpg)"
   ]
  },
  {
   "cell_type": "markdown",
   "id": "cf6f34bc",
   "metadata": {},
   "source": [
    "# Helper notebook"
   ]
  },
  {
   "cell_type": "markdown",
   "id": "c75b6922",
   "metadata": {},
   "source": [
    "Helper functions for handling:\n",
    "- HTML page retrieval\n",
    "- Convert HTML to Soup object"
   ]
  },
  {
   "cell_type": "code",
   "execution_count": 12,
   "id": "eab5d9a6",
   "metadata": {},
   "outputs": [],
   "source": [
    "# === CELL TYPE: INMPORT\n",
    "from urllib.request import Request, urlopen\n",
    "from bs4 import BeautifulSoup\n",
    "# ---\n",
    "import os # for testing only\n",
    "# ---"
   ]
  },
  {
   "cell_type": "markdown",
   "id": "dc5984ce",
   "metadata": {},
   "source": [
    "<u>method name</u>: <b>load_soup_object</b>\n",
    "<pre>Function to create and return a soup object for a given html file</pre>"
   ]
  },
  {
   "cell_type": "code",
   "execution_count": 13,
   "id": "355c426b",
   "metadata": {},
   "outputs": [],
   "source": [
    "def load_soup_object(html_file_name):\n",
    "    soup = BeautifulSoup(html_file_name, \"html.parser\")\n",
    "    return soup"
   ]
  },
  {
   "cell_type": "markdown",
   "id": "fe6ae2cd",
   "metadata": {},
   "source": [
    "<u>method name</u>: <b>get_url_page</b>\n",
    "<pre>Function for retrieving data from a given path page</pre>"
   ]
  },
  {
   "cell_type": "code",
   "execution_count": null,
   "id": "4a0fd682",
   "metadata": {},
   "outputs": [],
   "source": [
    "def get_url_page(path):\n",
    "    req = Request(path, headers={'User-Agent': 'Mozilla/5.0'})\n",
    "    webpage = urlopen(req).read()\n",
    "    return webpage"
   ]
  }
 ],
 "metadata": {
  "kernelspec": {
   "display_name": "Python 3 (ipykernel)",
   "language": "python",
   "name": "python3"
  },
  "language_info": {
   "codemirror_mode": {
    "name": "ipython",
    "version": 3
   },
   "file_extension": ".py",
   "mimetype": "text/x-python",
   "name": "python",
   "nbconvert_exporter": "python",
   "pygments_lexer": "ipython3",
   "version": "3.9.7"
  }
 },
 "nbformat": 4,
 "nbformat_minor": 5
}
