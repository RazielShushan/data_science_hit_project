{
 "cells": [
  {
   "cell_type": "code",
   "execution_count": 2,
   "id": "99d6a9df",
   "metadata": {},
   "outputs": [],
   "source": [
    "from sklearn import linear_model, metrics, preprocessing\n",
    "from sklearn.preprocessing import StandardScaler, MinMaxScaler\n",
    "from sklearn.linear_model import LogisticRegression, LinearRegression\n",
    "from sklearn.metrics import r2_score, f1_score\n",
    "from sklearn.model_selection import train_test_split\n",
    "%matplotlib inline\n"
   ]
  },
  {
   "cell_type": "code",
   "execution_count": 2,
   "id": "0397001d",
   "metadata": {},
   "outputs": [],
   "source": [
    "def split_table_to_train_and_test(df):\n",
    "    train, test = train_test_split(df, test_size=0.2)\n",
    "    return train, test"
   ]
  },
  {
   "cell_type": "code",
   "execution_count": 3,
   "id": "abbc2f70",
   "metadata": {},
   "outputs": [],
   "source": [
    "def split_dataset(df, target_column):\n",
    "    TRAINING_FEATURES=df.columns[df.columns!=target_column]\n",
    "    TARGET_FEATURE=target_column\n",
    "    X=df[TRAINING_FEATURES]\n",
    "    y=df[TARGET_FEATURE]\n",
    "    return X , y"
   ]
  },
  {
   "cell_type": "code",
   "execution_count": 4,
   "id": "a4cc5164",
   "metadata": {},
   "outputs": [],
   "source": [
    "def get_ml_df(df,rows,cols):\n",
    "    df = delete_col_by_name(df,cols)\n",
    "    df = delete_missing_lines(df,rows)\n",
    "    numeric_df = df._get_numeric_data()\n",
    "    return numeric_df"
   ]
  },
  {
   "cell_type": "code",
   "execution_count": 5,
   "id": "4cdd07a4",
   "metadata": {},
   "outputs": [],
   "source": [
    "def predict(trained_model, X_test):\n",
    "    y_predict=trained_model.predict(X_test)\n",
    "    return y_predict"
   ]
  },
  {
   "cell_type": "code",
   "execution_count": 6,
   "id": "45caa2b4",
   "metadata": {},
   "outputs": [],
   "source": [
    "def train_model(X_train, y_train):\n",
    "    reg=LinearRegression()\n",
    "    trained_model=reg.fit(X_train, y_train)\n",
    "    return trained_model"
   ]
  },
  {
   "cell_type": "code",
   "execution_count": null,
   "id": "f7795c70",
   "metadata": {},
   "outputs": [],
   "source": [
    "def evaluate_performance(y_test,y_predicted):\n",
    "    results= r2_score(y_test, y_predicted)\n",
    "    return results\n"
   ]
  },
  {
   "cell_type": "code",
   "execution_count": 3,
   "id": "999d2d19",
   "metadata": {},
   "outputs": [],
   "source": [
    "def calculate_lr_R2(df,target_col):\n",
    "    train, test = split_table_to_train_and_test(df)\n",
    "    X_train, y_train = split_dataset(train,target_col)\n",
    "    X_test, y_test = split_dataset(test,target_col)\n",
    "    trained_mode = train_model(X_train, y_train)\n",
    "    pred_vals = predict(trained_mode, X_test)\n",
    "    y_pred= pd.Series(pred_vals,index=X_test.index)\n",
    "    eval_res = evaluate_performance(y_test, y_pred)\n",
    "    return eval_res"
   ]
  }
 ],
 "metadata": {
  "kernelspec": {
   "display_name": "Python 3 (ipykernel)",
   "language": "python",
   "name": "python3"
  },
  "language_info": {
   "codemirror_mode": {
    "name": "ipython",
    "version": 3
   },
   "file_extension": ".py",
   "mimetype": "text/x-python",
   "name": "python",
   "nbconvert_exporter": "python",
   "pygments_lexer": "ipython3",
   "version": "3.9.7"
  }
 },
 "nbformat": 4,
 "nbformat_minor": 5
}
