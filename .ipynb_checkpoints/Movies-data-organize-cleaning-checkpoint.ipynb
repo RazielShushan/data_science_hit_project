{
 "cells": [
  {
   "cell_type": "code",
   "execution_count": 21,
   "id": "1277f87e",
   "metadata": {},
   "outputs": [],
   "source": [
    "import pandas as pd\n",
    "import matplotlib.pyplot as plt\n",
    "import seaborn as sns\n",
    "import numpy as np\n",
    "%run EDA_visualization.ipynb\n",
    "%matplotlib inline"
   ]
  },
  {
   "cell_type": "markdown",
   "id": "b400a6c6",
   "metadata": {},
   "source": [
    "## Load the Box Office dataSet\n",
    "I have already scraped the data and now I am loading the data from the data folder (you can see the scrap code in the XYZ file)\n",
    "I scraped  dataset from Box Offcie website - http://boxofficemojo.com/.\n",
    "The dataset shows information about movie, movie performance divided by countries etc.\n",
    "Each row in the table represents a film that was screened between the years 2007-2021."
   ]
  },
  {
   "cell_type": "code",
   "execution_count": 3,
   "id": "63be81b9",
   "metadata": {},
   "outputs": [],
   "source": [
    "def load_csv(file_name):\n",
    "    return pd.read_csv(file_name,header=0, sep=',')"
   ]
  },
  {
   "cell_type": "code",
   "execution_count": 4,
   "id": "1c6c7d35",
   "metadata": {},
   "outputs": [],
   "source": [
    "def remove_duplicatives(df, col_name=None):\n",
    "    temp_df = df.copy()\n",
    "    temp_df = temp_df.drop_duplicates(col_name)\n",
    "    return temp_df"
   ]
  },
  {
   "cell_type": "code",
   "execution_count": 5,
   "id": "cf653330",
   "metadata": {},
   "outputs": [],
   "source": [
    "def delete_missing_lines(df,col_name):\n",
    "    df_copy = df.copy()\n",
    "    df_copy.dropna(subset=col_name, inplace=True)\n",
    "    return df_copy"
   ]
  },
  {
   "cell_type": "code",
   "execution_count": 2,
   "id": "a229ac5c",
   "metadata": {},
   "outputs": [],
   "source": [
    "def get_cleaning_data():\n",
    "    df = load_csv(\"./data/All_movies_table.csv\")\n",
    "    df_copy = df.copy()\n",
    "    df_copy = delete_col_by_name(df_copy,\"budget\")\n",
    "    df_copy = remove_duplicatives(df_copy)\n",
    "    df_copy = delete_missing_lines(df,[\"movie_link\",\"worldwide_income\"])\n",
    "    df_copy = add_categorical_column(df_copy,'mpaa')\n",
    "    df_copy = df_division_of_data(df_copy,\"genres\",\"|\")\n",
    "    return df_copy"
   ]
  },
  {
   "cell_type": "code",
   "execution_count": 7,
   "id": "8e75c5d1",
   "metadata": {},
   "outputs": [],
   "source": [
    "def add_categorical_column(df,col_name):\n",
    "    df_temp = df.copy()\n",
    "    df_temp[col_name] = pd.Categorical(df_temp[col_name])\n",
    "    new_col = col_name + \"_cat\"\n",
    "    df_temp[new_col] = df_temp[col_name].cat.codes\n",
    "    return df_temp\n"
   ]
  },
  {
   "cell_type": "code",
   "execution_count": 8,
   "id": "dd98b423",
   "metadata": {},
   "outputs": [],
   "source": [
    "def delete_col_by_name(df,col_name=None):\n",
    "    df_copy = df.copy()\n",
    "    if col_name is None:\n",
    "        return df_copy\n",
    "    df_copy.drop(col_name, inplace=True, axis=1)\n",
    "    return df_copy"
   ]
  },
  {
   "cell_type": "code",
   "execution_count": 9,
   "id": "ef3a5dff",
   "metadata": {},
   "outputs": [],
   "source": [
    "def remove_outliers_by_col(df,col_name):\n",
    "    df_copy = df.copy()\n",
    "    df_copy = delete_missing_lines(df_copy,[col_name])\n",
    "    Q1 = np.percentile(df_copy[col_name],25)\n",
    "    Q3 = np.percentile(df_copy[col_name],75)\n",
    "    IQR = Q3 - Q1\n",
    "    outliers_index = df_copy[(df_copy[col_name] < Q1 - 1.5*IQR) | (df_copy[col_name] > Q3 + 1.5*IQR)].index\n",
    "    df_copy.drop(outliers_index, axis=0, inplace=True)\n",
    "    return df_copy"
   ]
  },
  {
   "cell_type": "code",
   "execution_count": 23,
   "id": "5a44c144",
   "metadata": {},
   "outputs": [],
   "source": [
    "def df_division_of_data(df,col_name,uni_sign):\n",
    "    return pd.concat([df,df[col_name].apply(lambda x: pd.Series(x.split(uni_sign)).value_counts().convert_dtypes()).fillna(0)],axis = 1)"
   ]
  },
  {
   "cell_type": "code",
   "execution_count": 4,
   "id": "704be239",
   "metadata": {},
   "outputs": [],
   "source": [
    "def get_table_with_top_values_coll(df,col_name,uni_sign):\n",
    "    temp_df = delete_missing_lines(df,[col_name])\n",
    "    temp_df = df_division_of_data(temp_df,col_name,uni_sign)\n",
    "    lenn_arr = get_freqDist(df,col_name)\n",
    "    new_list = []\n",
    "    index = 0\n",
    "    for item in lenn_arr:\n",
    "        new_list.append(item)\n",
    "        index += 1\n",
    "        if index == 19:\n",
    "            break\n",
    "    new_list.append('worldwide_income')\n",
    "    return temp_df[new_list],new_list"
   ]
  },
  {
   "cell_type": "code",
   "execution_count": null,
   "id": "4d24d017",
   "metadata": {},
   "outputs": [],
   "source": []
  }
 ],
 "metadata": {
  "kernelspec": {
   "display_name": "Python 3 (ipykernel)",
   "language": "python",
   "name": "python3"
  },
  "language_info": {
   "codemirror_mode": {
    "name": "ipython",
    "version": 3
   },
   "file_extension": ".py",
   "mimetype": "text/x-python",
   "name": "python",
   "nbconvert_exporter": "python",
   "pygments_lexer": "ipython3",
   "version": "3.9.7"
  }
 },
 "nbformat": 4,
 "nbformat_minor": 5
}
