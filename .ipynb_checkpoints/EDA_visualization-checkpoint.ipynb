{
 "cells": [
  {
   "cell_type": "code",
   "execution_count": 1,
   "id": "e0fe7ec1",
   "metadata": {},
   "outputs": [],
   "source": [
    "from matplotlib import pyplot as plt\n",
    "from matplotlib.pyplot import figure\n",
    "import matplotlib as mpl\n",
    "import seaborn as sns\n",
    "from mpl_toolkits.mplot3d import Axes3D\n",
    "from sklearn.feature_extraction.text import CountVectorizer\n",
    "from wordcloud import WordCloud\n",
    "from PIL import Image\n",
    "import nltk\n",
    "%matplotlib inline"
   ]
  },
  {
   "cell_type": "code",
   "execution_count": 6,
   "id": "e8984239",
   "metadata": {},
   "outputs": [],
   "source": [
    "def get_outliers(df):\n",
    "    fig, ax = plt.subplots(2, 2)\n",
    "    df_running_time = delete_missing_lines(df,['running_time'])\n",
    "    sns.boxplot(x=df_running_time.running_time, ax=ax[0, 0], color='yellow')\n",
    "\n",
    "    df_mpaa = delete_missing_lines(df,['mpaa'])\n",
    "    sns.boxplot(x=df_mpaa.mpaa_cat, ax=ax[0, 1], color='green')\n",
    "\n",
    "    df_worldwide_income = delete_missing_lines(df,['num_of_countries'])\n",
    "    sns.boxplot(x=df_worldwide_income.num_of_countries, ax=ax[1, 0], color='blue')\n",
    "\n",
    "    fig.set_size_inches(18.5, 10.5, forward=True)\n",
    "    fig.set_dpi(105)\n"
   ]
  },
  {
   "cell_type": "code",
   "execution_count": 17,
   "id": "946a1aa7",
   "metadata": {},
   "outputs": [],
   "source": [
    "def get_vis_division_by_year(df):\n",
    "    fig_year = plt.figure(figsize=(20, 6), dpi=105)\n",
    "    fig_pie = fig_year.add_subplot(121)\n",
    "    fig_hist = fig_year.add_subplot(122)\n",
    "    fig_hist.hist(df.year,bins=50)\n",
    "    year_values = df.year.value_counts()\n",
    "    fig_hist.set_title(\"Divided by histogram\")\n",
    "    fig_hist.set_xlabel('Year')\n",
    "    fig_hist.set_ylabel('Frequency')\n",
    "    fig_pie.pie(year_values,labels=year_values.index,autopct='%1.2f%%')\n",
    "    fig_pie.set_title(\"Divided by percentages\")"
   ]
  },
  {
   "cell_type": "code",
   "execution_count": 20,
   "id": "5cc3f98f",
   "metadata": {},
   "outputs": [],
   "source": [
    "def get_vis_division_by_genres(df):\n",
    "    values = df['genres'].str.split('|').explode().value_counts()\n",
    "    fig = plt.figure(figsize=(15, 6), dpi=100)\n",
    "    fig_pie = fig.add_subplot(111)\n",
    "    fig_pie.pie(values,labels=values.index,autopct='%1.f%%')\n",
    "    fig_pie.set_title(\"Genres\")"
   ]
  },
  {
   "cell_type": "code",
   "execution_count": 32,
   "id": "e38fb5f8",
   "metadata": {},
   "outputs": [],
   "source": [
    "def get_scatter_plot(df):\n",
    "    fig, axs = plt.subplots(3, 2)\n",
    "    axs[0, 0].scatter(df.international_income, df.worldwide_income.astype(float),color='green')\n",
    "    axs[0, 0].set_title('International income & Worldwide income')\n",
    "    axs[0, 0].set(xlabel='International income', ylabel='Income(Billion)')\n",
    "    \n",
    "    axs[0, 1].scatter(df.domestic_income, df.worldwide_income.astype(float))\n",
    "    axs[0, 1].set_title('Domestic income & Worldwide income')\n",
    "    axs[0, 1].set(xlabel='Domestic income', ylabel='Worldwide income(Billion)')\n",
    "    \n",
    "    axs[1, 0].scatter(df.num_of_countries, df.worldwide_income.astype(float),color='salmon')\n",
    "    axs[1, 0].set_title('Countries & Worldwide income')\n",
    "    axs[1, 0].set(xlabel='Number of countries', ylabel='Income(Billion)')\n",
    "    \n",
    "    axs[1, 1].scatter(df.writer_sum, df.worldwide_income.astype(float),color='orange')\n",
    "    axs[1, 1].set_title('Number of writers & Worldwide income')\n",
    "    axs[1, 1].set(xlabel='Number of writers', ylabel='Income(Billion)')\n",
    "    \n",
    "    axs[2, 0].scatter(df.running_time, df.worldwide_income.astype(float),color='purple')\n",
    "    axs[2, 0].set_title('Running time & Worldwide income')\n",
    "    axs[2, 0].set(xlabel='Running time(minutes)', ylabel='Income(Billion)')\n",
    "    \n",
    "    fig.set_size_inches(15, 20, forward=True)\n",
    "    fig.set_dpi(150)"
   ]
  },
  {
   "cell_type": "code",
   "execution_count": null,
   "id": "caf43c26",
   "metadata": {},
   "outputs": [],
   "source": []
  },
  {
   "cell_type": "code",
   "execution_count": 40,
   "id": "d376dfc0",
   "metadata": {},
   "outputs": [],
   "source": [
    "def get_two_3D_scaater_plot(df,x1_name,y1_name,z1_name,x2_name=\"\",y2_name=\"\",z2_name=\"\"):\n",
    "    fig = plt.figure(figsize=plt.figaspect(0.5))\n",
    "\n",
    "    ax = fig.add_subplot(1, 2, 1, projection='3d')\n",
    "    X = df[x1_name]\n",
    "    Y = df[y1_name]\n",
    "    Z = df[z1_name]\n",
    "    ax.set_xlabel(x1_name)\n",
    "    ax.set_ylabel(y1_name)\n",
    "    ax.set_zlabel(z1_name)\n",
    "    ax.set_title(\"Correlation -\" + x1_name +  \" & \" +  y1_name + \" & \"  + z1_name)\n",
    "    ax.scatter3D(X, Y, Z, c=Z,depthshade=False)\n",
    "\n",
    "    # ==============\n",
    "    # Second subplot\n",
    "    # ==============\n",
    "    if x2_name != \"\":\n",
    "        ax = fig.add_subplot(1, 2, 2, projection='3d')\n",
    "        X = df[x2_name]\n",
    "        Y = df[y2_name]\n",
    "        Z = df[z2_name]\n",
    "        ax.set_xlabel(x2_name)\n",
    "        ax.set_ylabel(y2_name)\n",
    "        ax.set_zlabel(z2_name)\n",
    "        ax.set_title(\"Correlation -\" + x2_name +  \" & \" +  y2_name + \" & \"  + z2_name)\n",
    "        ax.scatter3D(X, Y, Z, c=Z,depthshade=False)\n",
    "\n",
    "    fig.set_size_inches(15, 20, forward=True)\n",
    "    fig.set_dpi(150)\n",
    "    plt.show()"
   ]
  },
  {
   "cell_type": "code",
   "execution_count": 66,
   "id": "eaada866",
   "metadata": {},
   "outputs": [],
   "source": [
    "def get_bar_vis_text_data(df,coll_name):\n",
    "    freqDist = get_freqDist(df,coll_name)\n",
    "    topK=20\n",
    "    plt.bar(list(freqDist.keys())[:topK], list(freqDist.values())[:topK])\n",
    "    plt.xticks(list(freqDist.keys())[:topK], rotation='vertical')\n",
    "    plt.title(coll_name)\n",
    "    plt.show()"
   ]
  },
  {
   "cell_type": "code",
   "execution_count": 62,
   "id": "ef20fae8",
   "metadata": {},
   "outputs": [],
   "source": [
    "def get_wordcloud_vis_text_data(df,coll_name):\n",
    "    freqDist = get_freqDist(df,coll_name)\n",
    "    wordcloud = WordCloud(max_font_size=50, max_words=75, background_color=\"white\").generate_from_frequencies(freqDist)\n",
    "    plt.figure(figsize=(8, 6), dpi=100)\n",
    "    plt.imshow(wordcloud, interpolation=\"bilinear\")\n",
    "    plt.axis(\"off\")\n",
    "    plt.show()"
   ]
  },
  {
   "cell_type": "code",
   "execution_count": 53,
   "id": "03b47b24",
   "metadata": {},
   "outputs": [],
   "source": [
    "def export_text_from_col(df,coll_name):\n",
    "    lines = []\n",
    "    for row in df[coll_name]:\n",
    "        if type(row) is float:\n",
    "            continue\n",
    "        row = row.strip().lower()\n",
    "        lines.append(row)\n",
    "    text = \" \".join(lines)\n",
    "    return text"
   ]
  },
  {
   "cell_type": "code",
   "execution_count": 54,
   "id": "bf356421",
   "metadata": {},
   "outputs": [],
   "source": [
    "def get_freqDist(df,coll_name):\n",
    "    text = export_text_from_col(df,coll_name)\n",
    "    vectorizer=CountVectorizer(stop_words=\"english\")\n",
    "    freq_vec=vectorizer.fit_transform([text]).toarray() # the function requires as input an array of docs..\n",
    "    freqDist=dict(zip(vectorizer.get_feature_names(),freq_vec[0])) # create a dictionary from the first (and only) row\n",
    "    freqDist=dict(sorted(freqDist.items(), key=lambda item: item[1],reverse=True)) # ascending sort..\n",
    "    return freqDist"
   ]
  },
  {
   "cell_type": "code",
   "execution_count": 13,
   "id": "39642aee",
   "metadata": {},
   "outputs": [],
   "source": []
  }
 ],
 "metadata": {
  "kernelspec": {
   "display_name": "Python 3 (ipykernel)",
   "language": "python",
   "name": "python3"
  },
  "language_info": {
   "codemirror_mode": {
    "name": "ipython",
    "version": 3
   },
   "file_extension": ".py",
   "mimetype": "text/x-python",
   "name": "python",
   "nbconvert_exporter": "python",
   "pygments_lexer": "ipython3",
   "version": "3.9.7"
  }
 },
 "nbformat": 4,
 "nbformat_minor": 5
}
